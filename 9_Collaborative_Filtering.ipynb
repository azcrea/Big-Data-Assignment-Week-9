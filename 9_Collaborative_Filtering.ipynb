{
  "nbformat": 4,
  "nbformat_minor": 0,
  "metadata": {
    "colab": {
      "provenance": []
    },
    "kernelspec": {
      "name": "python3",
      "display_name": "Python 3"
    },
    "language_info": {
      "name": "python"
    }
  },
  "cells": [
    {
      "cell_type": "code",
      "source": [
        "!pip install pyspark"
      ],
      "metadata": {
        "colab": {
          "base_uri": "https://localhost:8080/"
        },
        "id": "VrEhrUI5fmvA",
        "outputId": "98a554a1-f101-49bd-e0a1-03b95b7e6496"
      },
      "execution_count": null,
      "outputs": [
        {
          "output_type": "stream",
          "name": "stdout",
          "text": [
            "Collecting pyspark\n",
            "  Downloading pyspark-3.4.1.tar.gz (310.8 MB)\n",
            "\u001b[2K     \u001b[90m━━━━━━━━━━━━━━━━━━━━━━━━━━━━━━━━━━━━━━━\u001b[0m \u001b[32m310.8/310.8 MB\u001b[0m \u001b[31m5.0 MB/s\u001b[0m eta \u001b[36m0:00:00\u001b[0m\n",
            "\u001b[?25h  Preparing metadata (setup.py) ... \u001b[?25l\u001b[?25hdone\n",
            "Requirement already satisfied: py4j==0.10.9.7 in /usr/local/lib/python3.10/dist-packages (from pyspark) (0.10.9.7)\n",
            "Building wheels for collected packages: pyspark\n",
            "  Building wheel for pyspark (setup.py) ... \u001b[?25l\u001b[?25hdone\n",
            "  Created wheel for pyspark: filename=pyspark-3.4.1-py2.py3-none-any.whl size=311285398 sha256=2cfd0c3218767533d7080906de264fa560299d47494ff85be1dbaff5c14aaeed\n",
            "  Stored in directory: /root/.cache/pip/wheels/0d/77/a3/ff2f74cc9ab41f8f594dabf0579c2a7c6de920d584206e0834\n",
            "Successfully built pyspark\n",
            "Installing collected packages: pyspark\n",
            "Successfully installed pyspark-3.4.1\n"
          ]
        }
      ]
    },
    {
      "cell_type": "code",
      "source": [
        "# Import Apache Spark SQL\n",
        "from pyspark.sql import SparkSession\n",
        "\n",
        "# Create Spark Session/Context\n",
        "# We are using local machine with all the CPU cores [*]\n",
        "spark = SparkSession.builder \\\n",
        "    .master(\"local[*]\") \\\n",
        "    .appName(\"Hello Pyspark\") \\\n",
        "    .config(\"spark.some.config.option\", \"some-value\") \\\n",
        "    .getOrCreate()"
      ],
      "metadata": {
        "id": "y9ZvtOs3flF4"
      },
      "execution_count": null,
      "outputs": []
    },
    {
      "cell_type": "code",
      "execution_count": null,
      "metadata": {
        "id": "daobCssRfRrC"
      },
      "outputs": [],
      "source": [
        "from pyspark.ml.evaluation import RegressionEvaluator\n",
        "from pyspark.ml.recommendation import ALS\n",
        "from pyspark.sql import Row\n",
        "\n",
        "lines = spark.read.text(\"sample_movielens_ratings.txt\").rdd\n",
        "parts = lines.map(lambda row: row.value.split(\"::\"))\n",
        "ratingsRDD = parts.map(lambda p: Row(userId=int(p[0]), movieId=int(p[1]),\n",
        "                                     rating=float(p[2]), timestamp=int(p[3])))\n",
        "ratings = spark.createDataFrame(ratingsRDD)\n",
        "(training, test) = ratings.randomSplit([0.8, 0.2])"
      ]
    },
    {
      "cell_type": "code",
      "source": [
        "# Build the recommendation model using ALS on the training data\n",
        "# Note we set cold start strategy to 'drop' to ensure we don't get NaN evaluation metrics\n",
        "als = ALS(maxIter=15, regParam=1.0, userCol=\"userId\", itemCol=\"movieId\", ratingCol=\"rating\",\n",
        "          coldStartStrategy=\"drop\")\n",
        "model = als.fit(training)"
      ],
      "metadata": {
        "id": "ndh7ehEff7tE"
      },
      "execution_count": null,
      "outputs": []
    },
    {
      "cell_type": "code",
      "source": [
        "# Evaluate the model by computing the RMSE on the test data\n",
        "predictions = model.transform(test)\n",
        "evaluator = RegressionEvaluator(metricName=\"rmse\", labelCol=\"rating\",\n",
        "                                predictionCol=\"prediction\")\n",
        "rmse = evaluator.evaluate(predictions)\n",
        "print(\"Root-mean-square error = \" + str(rmse))"
      ],
      "metadata": {
        "colab": {
          "base_uri": "https://localhost:8080/"
        },
        "id": "vP3vWHkgfa1D",
        "outputId": "a4b8a43a-a956-47f7-cd3a-ccf6dad3b73b"
      },
      "execution_count": null,
      "outputs": [
        {
          "output_type": "stream",
          "name": "stdout",
          "text": [
            "Root-mean-square error = 1.5023941602641004\n"
          ]
        }
      ]
    },
    {
      "cell_type": "markdown",
      "source": [
        "RMSE\n",
        "\n",
        ">5 Max Iter Param 0.01 = 1.8145\n",
        "\n",
        ">10 Max Iter Param 0.5 = 1,2214\n",
        "\n",
        ">20 Max Iter Param 1 = Request Too Large causing an Error\n",
        "\n",
        ">Try 15 Max Iter Param 1 = 1,5023"
      ],
      "metadata": {
        "id": "R5C_Jbkmg16G"
      }
    },
    {
      "cell_type": "markdown",
      "source": [
        "10 Max Iter with Param 0.5 perform better.\n",
        "\n",
        "The performance depends with the size of the dataset"
      ],
      "metadata": {
        "id": "lAYoKMoGiAr3"
      }
    },
    {
      "cell_type": "code",
      "source": [
        "# Generate top 10 movie recommendations for each user\n",
        "userRecs = model.recommendForAllUsers(10)\n",
        "userRecs.show()\n",
        "# Generate top 10 user recommendations for each movie\n",
        "movieRecs = model.recommendForAllItems(10)\n",
        "movieRecs.show()"
      ],
      "metadata": {
        "colab": {
          "base_uri": "https://localhost:8080/"
        },
        "id": "a_6DJO3hf-G5",
        "outputId": "f9e27eeb-53d8-43a0-a432-ed2b5c2f57be"
      },
      "execution_count": null,
      "outputs": [
        {
          "output_type": "stream",
          "name": "stdout",
          "text": [
            "+------+--------------------+\n",
            "|userId|     recommendations|\n",
            "+------+--------------------+\n",
            "|    20|[{32, 1.5048801},...|\n",
            "|    10|[{32, 1.3171088},...|\n",
            "|     0|[{32, 1.072787}, ...|\n",
            "|     1|[{32, 1.1952989},...|\n",
            "|    21|[{32, 1.1602384},...|\n",
            "|    11|[{32, 1.9412564},...|\n",
            "|    12|[{32, 1.549379}, ...|\n",
            "|    22|[{32, 1.8191476},...|\n",
            "|     2|[{32, 1.7550833},...|\n",
            "|    13|[{32, 1.2230905},...|\n",
            "|     3|[{32, 1.5511663},...|\n",
            "|    23|[{32, 1.881327}, ...|\n",
            "|     4|[{32, 1.2932472},...|\n",
            "|    24|[{32, 1.4221613},...|\n",
            "|    14|[{32, 1.4982002},...|\n",
            "|     5|[{32, 1.4009567},...|\n",
            "|    15|[{32, 1.0645754},...|\n",
            "|    25|[{32, 1.2116536},...|\n",
            "|    26|[{32, 1.6276153},...|\n",
            "|     6|[{32, 1.1234887},...|\n",
            "+------+--------------------+\n",
            "only showing top 20 rows\n",
            "\n",
            "+-------+--------------------+\n",
            "|movieId|     recommendations|\n",
            "+-------+--------------------+\n",
            "|     20|[{11, 0.94409543}...|\n",
            "|     40|[{11, 1.0766476},...|\n",
            "|     10|[{11, 1.1317606},...|\n",
            "|     50|[{11, 1.1283668},...|\n",
            "|     80|[{11, 1.5739257},...|\n",
            "|     70|[{11, 0.873105}, ...|\n",
            "|     60|[{11, 0.9413149},...|\n",
            "|     90|[{11, 1.6075344},...|\n",
            "|     30|[{11, 1.6347522},...|\n",
            "|      0|[{11, 0.6911664},...|\n",
            "|     31|[{11, 0.97643834}...|\n",
            "|     81|[{11, 1.2216843},...|\n",
            "|     91|[{11, 0.841268}, ...|\n",
            "|      1|[{11, 0.88080513}...|\n",
            "|     41|[{11, 1.1315879},...|\n",
            "|     61|[{11, 0.7921019},...|\n",
            "|     51|[{11, 1.4046282},...|\n",
            "|     21|[{11, 0.82635033}...|\n",
            "|     11|[{11, 0.65322196}...|\n",
            "|     71|[{11, 0.9739685},...|\n",
            "+-------+--------------------+\n",
            "only showing top 20 rows\n",
            "\n"
          ]
        }
      ]
    },
    {
      "cell_type": "code",
      "source": [
        "# Generate top 10 movie recommendations for a specified set of users\n",
        "users = ratings.select(als.getUserCol()).distinct().limit(3)\n",
        "userSubsetRecs = model.recommendForUserSubset(users, 10)\n",
        "\n",
        "userSubsetRecs.show()\n",
        "\n",
        "# Generate top 10 user recommendations for a specified set of movies\n",
        "movies = ratings.select(als.getItemCol()).distinct().limit(3)\n",
        "movieSubSetRecs = model.recommendForItemSubset(movies, 10)\n",
        "\n",
        "movieSubSetRecs.show()"
      ],
      "metadata": {
        "colab": {
          "base_uri": "https://localhost:8080/"
        },
        "id": "tq176DUAf_zV",
        "outputId": "93fd43e5-465a-4183-98bf-2e075d09c33b"
      },
      "execution_count": null,
      "outputs": [
        {
          "output_type": "stream",
          "name": "stdout",
          "text": [
            "+------+--------------------+\n",
            "|userId|     recommendations|\n",
            "+------+--------------------+\n",
            "|    26|[{32, 1.6276153},...|\n",
            "|    19|[{32, 1.2559781},...|\n",
            "|    29|[{32, 1.6720246},...|\n",
            "+------+--------------------+\n",
            "\n",
            "+-------+--------------------+\n",
            "|movieId|     recommendations|\n",
            "+-------+--------------------+\n",
            "|     65|[{11, 0.70824015}...|\n",
            "|     26|[{11, 0.7648331},...|\n",
            "|     29|[{11, 1.5966567},...|\n",
            "+-------+--------------------+\n",
            "\n"
          ]
        }
      ]
    }
  ]
}